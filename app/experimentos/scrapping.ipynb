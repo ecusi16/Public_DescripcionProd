{
 "cells": [
  {
   "cell_type": "code",
   "execution_count": 1,
   "metadata": {},
   "outputs": [],
   "source": [
    "import requests\n",
    "from bs4 import BeautifulSoup"
   ]
  },
  {
   "cell_type": "code",
   "execution_count": 5,
   "metadata": {},
   "outputs": [
    {
     "name": "stdout",
     "output_type": "stream",
     "text": [
      "Imagen 1: https://assets.einhell.com/im/imf/y400/900_411572/productimage\n",
      "Imagen 2: https://assets.einhell.com/im/imf/y400/900_411585/example_usage\n",
      "Imagen 3: https://assets.einhell.com/im/imf/y400/900_411579/detail_image\n",
      "Imagen 4: https://assets.einhell.com/im/imf/y400/900_411578/detail_image\n",
      "Imagen 5: https://assets.einhell.com/im/imf/y400/900_411577/detail_image\n",
      "Imagen 6: https://assets.einhell.com/im/imf/y400/900_411580/detail_image\n"
     ]
    }
   ],
   "source": [
    "import requests\n",
    "from bs4 import BeautifulSoup\n",
    "\n",
    "# URL de la página del producto\n",
    "url = \"https://www.einhell.es/p/4258621-tc-id-550-e/\"\n",
    "\n",
    "# Realizar la solicitud HTTP a la página\n",
    "response = requests.get(url)\n",
    "response.raise_for_status()  # Verificar si la solicitud fue exitosa\n",
    "\n",
    "# Parsear el contenido HTML de la página\n",
    "soup = BeautifulSoup(response.content, 'html.parser')\n",
    "\n",
    "# Encontrar el contenedor del swiper (carrousel) de imágenes\n",
    "swiper_container = soup.find('div', class_='module-product-image-swiper')\n",
    "\n",
    "# Extraer los enlaces de las imágenes\n",
    "image_links = []\n",
    "if swiper_container:\n",
    "    images = swiper_container.find_all('img')\n",
    "    for img in images:\n",
    "        image_url = img.get('src')\n",
    "        if image_url:\n",
    "            image_links.append(image_url)\n",
    "\n",
    "# Mostrar los enlaces de las imágenes\n",
    "for idx, link in enumerate(image_links, start=1):\n",
    "    print(f\"Imagen {idx}: {link}\")\n"
   ]
  },
  {
   "cell_type": "code",
   "execution_count": 1,
   "metadata": {},
   "outputs": [],
   "source": [
    "from googlesearch import search\n",
    "\n",
    "def obtener_enlaces_busqueda(query, num_links=1):\n",
    "    enlaces = []\n",
    "    for resultado in search(query, num_results=num_links):\n",
    "        enlaces.append(resultado)\n",
    "    return enlaces\n",
    "\n",
    "# Ejemplo de uso\n",
    "query = input(\"Tc - Ag 115/750 Amoladora Angular 115 Mm\")\n",
    "enlaces = obtener_enlaces_busqueda(query)[0]\n",
    "print(\"Los primeros 3 enlaces de la búsqueda son:\")\n",
    "for enlace in enlaces:\n",
    "    print(enlace)\n"
   ]
  },
  {
   "cell_type": "code",
   "execution_count": 20,
   "metadata": {},
   "outputs": [],
   "source": [
    "import requests\n",
    "from bs4 import BeautifulSoup\n",
    "import re\n",
    "\n",
    "# URL de la página del producto\n",
    "url = \"https://www.herramientaseinhell.com.ar/producto/amoladora-angular-750w-tc-ag-115-750/\"\n",
    "\n",
    "# Realizar la solicitud HTTP a la página\n",
    "response = requests.get(url)\n",
    "response.raise_for_status()  # Verificar si la solicitud fue exitosa\n",
    "\n",
    "# Parsear el contenido HTML de la página\n",
    "soup = BeautifulSoup(response.content, 'html.parser')\n",
    "\n",
    "# Posibles patrones de clases de contenedores de carrusel usando expresiones regulares\n",
    "carousel_patterns = [\n",
    "    re.compile(r'swiper-container.*'),\n",
    "    re.compile(r'carousel.*'),\n",
    "    re.compile(r'slider.*'),\n",
    "    re.compile(r'image-view--wrap.*'),\n",
    "    re.compile(r'.*gallery.*'),\n",
    "    # Agrega otros patrones aquí\n",
    "]\n",
    "\n",
    "# Extraer los enlaces de las imágenes\n",
    "image_links = []\n",
    "\n",
    "# Buscar imágenes en posibles carruseles\n",
    "for pattern in carousel_patterns:\n",
    "    carousels = soup.find_all('div', {\"class\":pattern})\n",
    "    for carousel in carousels:\n",
    "        images = carousel.find_all('img')\n",
    "        for img in images:\n",
    "            image_url = img.get('src')\n",
    "            if image_url and image_url not in image_links:\n",
    "                image_links.append(image_url)\n",
    "\n",
    "# Si no se encontraron imágenes en carruseles, buscar una imagen principal\n",
    "if not image_links:\n",
    "    main_image = soup.find('img')\n",
    "    if main_image:\n",
    "        image_url = main_image.get('src')\n"
   ]
  },
  {
   "cell_type": "code",
   "execution_count": 21,
   "metadata": {},
   "outputs": [
    {
     "data": {
      "text/plain": [
       "['https://www.herramientaseinhell.com.ar/wp-content/uploads/mqdefault-86-600x600.jpg',\n",
       " 'https://www.herramientaseinhell.com.ar/wp-content/uploads/detail_image-2.jpeg-600x450.jpg',\n",
       " 'https://www.herramientaseinhell.com.ar/wp-content/uploads/detail_image-1.jpeg-600x450.jpg',\n",
       " 'https://www.herramientaseinhell.com.ar/wp-content/uploads/detail_image.jpeg-600x450.jpg',\n",
       " 'https://www.herramientaseinhell.com.ar/wp-content/uploads/example_usage.jpeg-600x450.jpg',\n",
       " 'https://www.herramientaseinhell.com.ar/wp-content/uploads/5-72-600x450.jpg',\n",
       " 'https://www.herramientaseinhell.com.ar/wp-content/uploads/6-54-600x450.jpg',\n",
       " 'https://www.herramientaseinhell.com.ar/wp-content/uploads/2-104-600x450.jpg',\n",
       " 'https://www.herramientaseinhell.com.ar/wp-content/uploads/3-95-600x450.jpg',\n",
       " 'https://www.herramientaseinhell.com.ar/wp-content/uploads/4-82-600x450.jpg']"
      ]
     },
     "execution_count": 21,
     "metadata": {},
     "output_type": "execute_result"
    }
   ],
   "source": [
    "image_links"
   ]
  },
  {
   "cell_type": "code",
   "execution_count": 4,
   "metadata": {},
   "outputs": [],
   "source": [
    "import pandas as pd"
   ]
  },
  {
   "cell_type": "code",
   "execution_count": 5,
   "metadata": {},
   "outputs": [],
   "source": [
    "results_df= pd.read_csv(\"C:\\\\Users\\\\ecusi\\\\Documents\\\\Repos\\\\D4G_DescripcionProd\\\\app\\\\data\\\\archivo_productos.csv\")"
   ]
  },
  {
   "cell_type": "code",
   "execution_count": 6,
   "metadata": {},
   "outputs": [],
   "source": [
    "# Formatear las columnas de listas como viñetas\n",
    "def format_list_as_bullets(lst):\n",
    "    if pd.isna(lst):\n",
    "        return \"\"\n",
    "    items = lst.split(\", \")\n",
    "    return \"<ul>\" + \"\".join(f\"<li>{item}</li>\" for item in items) + \"</ul>\"\n",
    "\n",
    "results_df['ESPECIFICACIONES'] = results_df['ESPECIFICACIONES'].apply(format_list_as_bullets)\n",
    "results_df['IMAGENES'] = results_df['IMAGENES'].apply(format_list_as_bullets)\n",
    "results_df['FUENTES'] = results_df['FUENTES'].apply(format_list_as_bullets)"
   ]
  },
  {
   "cell_type": "code",
   "execution_count": 18,
   "metadata": {},
   "outputs": [],
   "source": [
    "from googlesearch import search\n",
    "import requests\n",
    "from bs4 import BeautifulSoup\n",
    "import re\n",
    "\n",
    "def obtener_enlaces_busqueda(query):\n",
    "    \"\"\"enlaces = []\n",
    "    for resultado in search(query, num_results=num_links):\n",
    "        enlaces.append(resultado)\n",
    "    return enlaces\"\"\"\n",
    "    # Realizar la búsqueda y obtener el primer resultado\n",
    "    try:\n",
    "        enlaces = []\n",
    "        first_result = search(query, num_results=1)\n",
    "        for resultado in first_result:\n",
    "            enlaces.append(resultado)\n",
    "        print(enlaces[0])\n",
    "        return enlaces[0]\n",
    "    except StopIteration:\n",
    "        return None\n",
    "\n",
    "def buscar_articulo(nombre_articulo):\n",
    "    return obtener_enlaces_busqueda(query)\n",
    "\n",
    "\n",
    "def obtener_3_imagenes(url):\n",
    "    if url is None:\n",
    "        return []\n",
    "    # Realizar la solicitud HTTP a la página\n",
    "    response = requests.get(url)\n",
    "    response.raise_for_status()  # Verificar si la solicitud fue exitosa\n",
    "\n",
    "    # Parsear el contenido HTML de la página\n",
    "    soup = BeautifulSoup(response.content, 'html.parser')\n",
    "\n",
    "    # Posibles patrones de clases de contenedores de carrusel usando expresiones regulares\n",
    "    carousel_patterns = [\n",
    "        re.compile(r'swiper-container.*'),\n",
    "        re.compile(r'carousel.*'),\n",
    "        re.compile(r'slider.*'),\n",
    "        re.compile(r'image-view--wrap.*'),\n",
    "        re.compile(r'.*gallery.*'),\n",
    "        # Agrega otros patrones aquí\n",
    "    ]\n",
    "\n",
    "    # Extraer los enlaces de las imágenes\n",
    "    image_links = []\n",
    "\n",
    "    # Buscar imágenes en posibles carruseles\n",
    "    for pattern in carousel_patterns:\n",
    "        carousels = soup.find_all('div', {\"class\":pattern})\n",
    "        for carousel in carousels:\n",
    "            images = carousel.find_all('img')\n",
    "            for img in images:\n",
    "                image_url = img.get('src')\n",
    "                if image_url and image_url not in image_links:\n",
    "                    image_links.append(image_url)\n",
    "\n",
    "    # Si no se encontraron imágenes en carruseles, buscar una imagen principal\n",
    "    if not image_links:\n",
    "        main_image = soup.find('img')\n",
    "        if main_image:\n",
    "            image_url = main_image.get('src')\n",
    "\n",
    "    return image_links[:3]\n",
    "\n",
    "def obtener_imagenes_articulo(nombre_articulo):\n",
    "    print(nombre_articulo)\n",
    "    url = buscar_articulo(nombre_articulo)\n",
    "    return obtener_3_imagenes(url)"
   ]
  },
  {
   "cell_type": "code",
   "execution_count": 19,
   "metadata": {},
   "outputs": [
    {
     "name": "stdout",
     "output_type": "stream",
     "text": [
      "TC-ID 550 E - Taladro\n",
      "https://openai.com/\n"
     ]
    },
    {
     "ename": "HTTPError",
     "evalue": "403 Client Error: Forbidden for url: https://openai.com/",
     "output_type": "error",
     "traceback": [
      "\u001b[1;31m---------------------------------------------------------------------------\u001b[0m",
      "\u001b[1;31mHTTPError\u001b[0m                                 Traceback (most recent call last)",
      "Cell \u001b[1;32mIn[19], line 1\u001b[0m\n\u001b[1;32m----> 1\u001b[0m results_df[\u001b[38;5;124m'\u001b[39m\u001b[38;5;124mLINK IMAGENES\u001b[39m\u001b[38;5;124m'\u001b[39m] \u001b[38;5;241m=\u001b[39m \u001b[43mresults_df\u001b[49m\u001b[43m[\u001b[49m\u001b[38;5;124;43m'\u001b[39;49m\u001b[38;5;124;43mDESCRIPCION DEL ARTICULO\u001b[39;49m\u001b[38;5;124;43m'\u001b[39;49m\u001b[43m]\u001b[49m\u001b[38;5;241;43m.\u001b[39;49m\u001b[43mapply\u001b[49m\u001b[43m(\u001b[49m\u001b[43mobtener_imagenes_articulo\u001b[49m\u001b[43m)\u001b[49m\n",
      "File \u001b[1;32mc:\\Users\\ecusi\\Documents\\Repos\\D4G_DescripcionProd\\venv\\Lib\\site-packages\\pandas\\core\\series.py:4924\u001b[0m, in \u001b[0;36mSeries.apply\u001b[1;34m(self, func, convert_dtype, args, by_row, **kwargs)\u001b[0m\n\u001b[0;32m   4789\u001b[0m \u001b[38;5;28;01mdef\u001b[39;00m \u001b[38;5;21mapply\u001b[39m(\n\u001b[0;32m   4790\u001b[0m     \u001b[38;5;28mself\u001b[39m,\n\u001b[0;32m   4791\u001b[0m     func: AggFuncType,\n\u001b[1;32m   (...)\u001b[0m\n\u001b[0;32m   4796\u001b[0m     \u001b[38;5;241m*\u001b[39m\u001b[38;5;241m*\u001b[39mkwargs,\n\u001b[0;32m   4797\u001b[0m ) \u001b[38;5;241m-\u001b[39m\u001b[38;5;241m>\u001b[39m DataFrame \u001b[38;5;241m|\u001b[39m Series:\n\u001b[0;32m   4798\u001b[0m \u001b[38;5;250m    \u001b[39m\u001b[38;5;124;03m\"\"\"\u001b[39;00m\n\u001b[0;32m   4799\u001b[0m \u001b[38;5;124;03m    Invoke function on values of Series.\u001b[39;00m\n\u001b[0;32m   4800\u001b[0m \n\u001b[1;32m   (...)\u001b[0m\n\u001b[0;32m   4915\u001b[0m \u001b[38;5;124;03m    dtype: float64\u001b[39;00m\n\u001b[0;32m   4916\u001b[0m \u001b[38;5;124;03m    \"\"\"\u001b[39;00m\n\u001b[0;32m   4917\u001b[0m     \u001b[38;5;28;01mreturn\u001b[39;00m \u001b[43mSeriesApply\u001b[49m\u001b[43m(\u001b[49m\n\u001b[0;32m   4918\u001b[0m \u001b[43m        \u001b[49m\u001b[38;5;28;43mself\u001b[39;49m\u001b[43m,\u001b[49m\n\u001b[0;32m   4919\u001b[0m \u001b[43m        \u001b[49m\u001b[43mfunc\u001b[49m\u001b[43m,\u001b[49m\n\u001b[0;32m   4920\u001b[0m \u001b[43m        \u001b[49m\u001b[43mconvert_dtype\u001b[49m\u001b[38;5;241;43m=\u001b[39;49m\u001b[43mconvert_dtype\u001b[49m\u001b[43m,\u001b[49m\n\u001b[0;32m   4921\u001b[0m \u001b[43m        \u001b[49m\u001b[43mby_row\u001b[49m\u001b[38;5;241;43m=\u001b[39;49m\u001b[43mby_row\u001b[49m\u001b[43m,\u001b[49m\n\u001b[0;32m   4922\u001b[0m \u001b[43m        \u001b[49m\u001b[43margs\u001b[49m\u001b[38;5;241;43m=\u001b[39;49m\u001b[43margs\u001b[49m\u001b[43m,\u001b[49m\n\u001b[0;32m   4923\u001b[0m \u001b[43m        \u001b[49m\u001b[43mkwargs\u001b[49m\u001b[38;5;241;43m=\u001b[39;49m\u001b[43mkwargs\u001b[49m\u001b[43m,\u001b[49m\n\u001b[1;32m-> 4924\u001b[0m \u001b[43m    \u001b[49m\u001b[43m)\u001b[49m\u001b[38;5;241;43m.\u001b[39;49m\u001b[43mapply\u001b[49m\u001b[43m(\u001b[49m\u001b[43m)\u001b[49m\n",
      "File \u001b[1;32mc:\\Users\\ecusi\\Documents\\Repos\\D4G_DescripcionProd\\venv\\Lib\\site-packages\\pandas\\core\\apply.py:1427\u001b[0m, in \u001b[0;36mSeriesApply.apply\u001b[1;34m(self)\u001b[0m\n\u001b[0;32m   1424\u001b[0m     \u001b[38;5;28;01mreturn\u001b[39;00m \u001b[38;5;28mself\u001b[39m\u001b[38;5;241m.\u001b[39mapply_compat()\n\u001b[0;32m   1426\u001b[0m \u001b[38;5;66;03m# self.func is Callable\u001b[39;00m\n\u001b[1;32m-> 1427\u001b[0m \u001b[38;5;28;01mreturn\u001b[39;00m \u001b[38;5;28;43mself\u001b[39;49m\u001b[38;5;241;43m.\u001b[39;49m\u001b[43mapply_standard\u001b[49m\u001b[43m(\u001b[49m\u001b[43m)\u001b[49m\n",
      "File \u001b[1;32mc:\\Users\\ecusi\\Documents\\Repos\\D4G_DescripcionProd\\venv\\Lib\\site-packages\\pandas\\core\\apply.py:1507\u001b[0m, in \u001b[0;36mSeriesApply.apply_standard\u001b[1;34m(self)\u001b[0m\n\u001b[0;32m   1501\u001b[0m \u001b[38;5;66;03m# row-wise access\u001b[39;00m\n\u001b[0;32m   1502\u001b[0m \u001b[38;5;66;03m# apply doesn't have a `na_action` keyword and for backward compat reasons\u001b[39;00m\n\u001b[0;32m   1503\u001b[0m \u001b[38;5;66;03m# we need to give `na_action=\"ignore\"` for categorical data.\u001b[39;00m\n\u001b[0;32m   1504\u001b[0m \u001b[38;5;66;03m# TODO: remove the `na_action=\"ignore\"` when that default has been changed in\u001b[39;00m\n\u001b[0;32m   1505\u001b[0m \u001b[38;5;66;03m#  Categorical (GH51645).\u001b[39;00m\n\u001b[0;32m   1506\u001b[0m action \u001b[38;5;241m=\u001b[39m \u001b[38;5;124m\"\u001b[39m\u001b[38;5;124mignore\u001b[39m\u001b[38;5;124m\"\u001b[39m \u001b[38;5;28;01mif\u001b[39;00m \u001b[38;5;28misinstance\u001b[39m(obj\u001b[38;5;241m.\u001b[39mdtype, CategoricalDtype) \u001b[38;5;28;01melse\u001b[39;00m \u001b[38;5;28;01mNone\u001b[39;00m\n\u001b[1;32m-> 1507\u001b[0m mapped \u001b[38;5;241m=\u001b[39m \u001b[43mobj\u001b[49m\u001b[38;5;241;43m.\u001b[39;49m\u001b[43m_map_values\u001b[49m\u001b[43m(\u001b[49m\n\u001b[0;32m   1508\u001b[0m \u001b[43m    \u001b[49m\u001b[43mmapper\u001b[49m\u001b[38;5;241;43m=\u001b[39;49m\u001b[43mcurried\u001b[49m\u001b[43m,\u001b[49m\u001b[43m \u001b[49m\u001b[43mna_action\u001b[49m\u001b[38;5;241;43m=\u001b[39;49m\u001b[43maction\u001b[49m\u001b[43m,\u001b[49m\u001b[43m \u001b[49m\u001b[43mconvert\u001b[49m\u001b[38;5;241;43m=\u001b[39;49m\u001b[38;5;28;43mself\u001b[39;49m\u001b[38;5;241;43m.\u001b[39;49m\u001b[43mconvert_dtype\u001b[49m\n\u001b[0;32m   1509\u001b[0m \u001b[43m\u001b[49m\u001b[43m)\u001b[49m\n\u001b[0;32m   1511\u001b[0m \u001b[38;5;28;01mif\u001b[39;00m \u001b[38;5;28mlen\u001b[39m(mapped) \u001b[38;5;129;01mand\u001b[39;00m \u001b[38;5;28misinstance\u001b[39m(mapped[\u001b[38;5;241m0\u001b[39m], ABCSeries):\n\u001b[0;32m   1512\u001b[0m     \u001b[38;5;66;03m# GH#43986 Need to do list(mapped) in order to get treated as nested\u001b[39;00m\n\u001b[0;32m   1513\u001b[0m     \u001b[38;5;66;03m#  See also GH#25959 regarding EA support\u001b[39;00m\n\u001b[0;32m   1514\u001b[0m     \u001b[38;5;28;01mreturn\u001b[39;00m obj\u001b[38;5;241m.\u001b[39m_constructor_expanddim(\u001b[38;5;28mlist\u001b[39m(mapped), index\u001b[38;5;241m=\u001b[39mobj\u001b[38;5;241m.\u001b[39mindex)\n",
      "File \u001b[1;32mc:\\Users\\ecusi\\Documents\\Repos\\D4G_DescripcionProd\\venv\\Lib\\site-packages\\pandas\\core\\base.py:921\u001b[0m, in \u001b[0;36mIndexOpsMixin._map_values\u001b[1;34m(self, mapper, na_action, convert)\u001b[0m\n\u001b[0;32m    918\u001b[0m \u001b[38;5;28;01mif\u001b[39;00m \u001b[38;5;28misinstance\u001b[39m(arr, ExtensionArray):\n\u001b[0;32m    919\u001b[0m     \u001b[38;5;28;01mreturn\u001b[39;00m arr\u001b[38;5;241m.\u001b[39mmap(mapper, na_action\u001b[38;5;241m=\u001b[39mna_action)\n\u001b[1;32m--> 921\u001b[0m \u001b[38;5;28;01mreturn\u001b[39;00m \u001b[43malgorithms\u001b[49m\u001b[38;5;241;43m.\u001b[39;49m\u001b[43mmap_array\u001b[49m\u001b[43m(\u001b[49m\u001b[43marr\u001b[49m\u001b[43m,\u001b[49m\u001b[43m \u001b[49m\u001b[43mmapper\u001b[49m\u001b[43m,\u001b[49m\u001b[43m \u001b[49m\u001b[43mna_action\u001b[49m\u001b[38;5;241;43m=\u001b[39;49m\u001b[43mna_action\u001b[49m\u001b[43m,\u001b[49m\u001b[43m \u001b[49m\u001b[43mconvert\u001b[49m\u001b[38;5;241;43m=\u001b[39;49m\u001b[43mconvert\u001b[49m\u001b[43m)\u001b[49m\n",
      "File \u001b[1;32mc:\\Users\\ecusi\\Documents\\Repos\\D4G_DescripcionProd\\venv\\Lib\\site-packages\\pandas\\core\\algorithms.py:1743\u001b[0m, in \u001b[0;36mmap_array\u001b[1;34m(arr, mapper, na_action, convert)\u001b[0m\n\u001b[0;32m   1741\u001b[0m values \u001b[38;5;241m=\u001b[39m arr\u001b[38;5;241m.\u001b[39mastype(\u001b[38;5;28mobject\u001b[39m, copy\u001b[38;5;241m=\u001b[39m\u001b[38;5;28;01mFalse\u001b[39;00m)\n\u001b[0;32m   1742\u001b[0m \u001b[38;5;28;01mif\u001b[39;00m na_action \u001b[38;5;129;01mis\u001b[39;00m \u001b[38;5;28;01mNone\u001b[39;00m:\n\u001b[1;32m-> 1743\u001b[0m     \u001b[38;5;28;01mreturn\u001b[39;00m \u001b[43mlib\u001b[49m\u001b[38;5;241;43m.\u001b[39;49m\u001b[43mmap_infer\u001b[49m\u001b[43m(\u001b[49m\u001b[43mvalues\u001b[49m\u001b[43m,\u001b[49m\u001b[43m \u001b[49m\u001b[43mmapper\u001b[49m\u001b[43m,\u001b[49m\u001b[43m \u001b[49m\u001b[43mconvert\u001b[49m\u001b[38;5;241;43m=\u001b[39;49m\u001b[43mconvert\u001b[49m\u001b[43m)\u001b[49m\n\u001b[0;32m   1744\u001b[0m \u001b[38;5;28;01melse\u001b[39;00m:\n\u001b[0;32m   1745\u001b[0m     \u001b[38;5;28;01mreturn\u001b[39;00m lib\u001b[38;5;241m.\u001b[39mmap_infer_mask(\n\u001b[0;32m   1746\u001b[0m         values, mapper, mask\u001b[38;5;241m=\u001b[39misna(values)\u001b[38;5;241m.\u001b[39mview(np\u001b[38;5;241m.\u001b[39muint8), convert\u001b[38;5;241m=\u001b[39mconvert\n\u001b[0;32m   1747\u001b[0m     )\n",
      "File \u001b[1;32mlib.pyx:2972\u001b[0m, in \u001b[0;36mpandas._libs.lib.map_infer\u001b[1;34m()\u001b[0m\n",
      "Cell \u001b[1;32mIn[18], line 70\u001b[0m, in \u001b[0;36mobtener_imagenes_articulo\u001b[1;34m(nombre_articulo)\u001b[0m\n\u001b[0;32m     68\u001b[0m \u001b[38;5;28mprint\u001b[39m(nombre_articulo)\n\u001b[0;32m     69\u001b[0m url \u001b[38;5;241m=\u001b[39m buscar_articulo(nombre_articulo)\n\u001b[1;32m---> 70\u001b[0m \u001b[38;5;28;01mreturn\u001b[39;00m \u001b[43mobtener_3_imagenes\u001b[49m\u001b[43m(\u001b[49m\u001b[43murl\u001b[49m\u001b[43m)\u001b[49m\n",
      "Cell \u001b[1;32mIn[18], line 31\u001b[0m, in \u001b[0;36mobtener_3_imagenes\u001b[1;34m(url)\u001b[0m\n\u001b[0;32m     29\u001b[0m \u001b[38;5;66;03m# Realizar la solicitud HTTP a la página\u001b[39;00m\n\u001b[0;32m     30\u001b[0m response \u001b[38;5;241m=\u001b[39m requests\u001b[38;5;241m.\u001b[39mget(url)\n\u001b[1;32m---> 31\u001b[0m \u001b[43mresponse\u001b[49m\u001b[38;5;241;43m.\u001b[39;49m\u001b[43mraise_for_status\u001b[49m\u001b[43m(\u001b[49m\u001b[43m)\u001b[49m  \u001b[38;5;66;03m# Verificar si la solicitud fue exitosa\u001b[39;00m\n\u001b[0;32m     33\u001b[0m \u001b[38;5;66;03m# Parsear el contenido HTML de la página\u001b[39;00m\n\u001b[0;32m     34\u001b[0m soup \u001b[38;5;241m=\u001b[39m BeautifulSoup(response\u001b[38;5;241m.\u001b[39mcontent, \u001b[38;5;124m'\u001b[39m\u001b[38;5;124mhtml.parser\u001b[39m\u001b[38;5;124m'\u001b[39m)\n",
      "File \u001b[1;32mc:\\Users\\ecusi\\Documents\\Repos\\D4G_DescripcionProd\\venv\\Lib\\site-packages\\requests\\models.py:1024\u001b[0m, in \u001b[0;36mResponse.raise_for_status\u001b[1;34m(self)\u001b[0m\n\u001b[0;32m   1019\u001b[0m     http_error_msg \u001b[38;5;241m=\u001b[39m (\n\u001b[0;32m   1020\u001b[0m         \u001b[38;5;124mf\u001b[39m\u001b[38;5;124m\"\u001b[39m\u001b[38;5;132;01m{\u001b[39;00m\u001b[38;5;28mself\u001b[39m\u001b[38;5;241m.\u001b[39mstatus_code\u001b[38;5;132;01m}\u001b[39;00m\u001b[38;5;124m Server Error: \u001b[39m\u001b[38;5;132;01m{\u001b[39;00mreason\u001b[38;5;132;01m}\u001b[39;00m\u001b[38;5;124m for url: \u001b[39m\u001b[38;5;132;01m{\u001b[39;00m\u001b[38;5;28mself\u001b[39m\u001b[38;5;241m.\u001b[39murl\u001b[38;5;132;01m}\u001b[39;00m\u001b[38;5;124m\"\u001b[39m\n\u001b[0;32m   1021\u001b[0m     )\n\u001b[0;32m   1023\u001b[0m \u001b[38;5;28;01mif\u001b[39;00m http_error_msg:\n\u001b[1;32m-> 1024\u001b[0m     \u001b[38;5;28;01mraise\u001b[39;00m HTTPError(http_error_msg, response\u001b[38;5;241m=\u001b[39m\u001b[38;5;28mself\u001b[39m)\n",
      "\u001b[1;31mHTTPError\u001b[0m: 403 Client Error: Forbidden for url: https://openai.com/"
     ]
    }
   ],
   "source": [
    "results_df['LINK IMAGENES'] = results_df['DESCRIPCION DEL ARTICULO'].apply(obtener_imagenes_articulo)\n"
   ]
  },
  {
   "cell_type": "code",
   "execution_count": 11,
   "metadata": {},
   "outputs": [
    {
     "data": {
      "text/plain": [
       "0    []\n",
       "1    []\n",
       "2    []\n",
       "Name: LINK IMAGENES, dtype: object"
      ]
     },
     "execution_count": 11,
     "metadata": {},
     "output_type": "execute_result"
    }
   ],
   "source": [
    "results_df['LINK IMAGENES']"
   ]
  },
  {
   "cell_type": "code",
   "execution_count": 1,
   "metadata": {},
   "outputs": [
    {
     "name": "stdout",
     "output_type": "stream",
     "text": [
      "Los primeros 3 enlaces de la búsqueda son:\n",
      "https://www.lutandistribuidora.com.br/armor-all-cera-pasta-lata-200g-24-18484-1\n",
      "https://www.walmart.com.mx/ip/limpieza-y-estetica-automotriz/cera-para-auto-armor-all-en-crema-200-g/00007061218484\n",
      "https://www.lacomer.com.mx/lacomer/?FK_-_Folleto_19_Julio_-19/07/2023=#!/detarticulo/70612184849/0/799/1///799\n",
      "\"70612184849\" \"ARMOR ALL\"\n",
      "Los primeros 3 enlaces de la búsqueda son:\n",
      "https://super.walmart.com.mx/ip/cera-para-auto-armor-all-en-crema-200-g/00007061218484\n",
      "https://www.armorall.com/es/product/cera-protettiva-rapida/\n",
      "https://www.armorall.com/es/exterior/cera-y-pintura/\n",
      "\"ARMOR ALL\" (\"ARMOR ALL CERA PREMIUM EN CREMA 24X200 G\")\n"
     ]
    }
   ],
   "source": [
    "from googlesearch import search \n",
    "\n",
    "\n",
    "def es_enlace_video(enlace):\n",
    "    plataformas_video = [\"youtube.com\", \"vimeo.com\", \"dailymotion.com\"]  # Agrega otras plataformas si es necesario\n",
    "    for plataforma in plataformas_video:\n",
    "        if plataforma in enlace:\n",
    "            return True\n",
    "    return False\n",
    "\n",
    "def obtener_enlaces_busqueda(query, num_links=3):\n",
    "    enlaces = []\n",
    "    for i, resultado in enumerate(search(query, country ='BO'), 1):\n",
    "        if not es_enlace_video(resultado):\n",
    "            enlaces.append(resultado)\n",
    "        if len(enlaces) == num_links:\n",
    "            break\n",
    "    return enlaces\n",
    "\n",
    "# Ejemplo de uso\n",
    "codigo = '70612184849'\n",
    "marca = 'ARMOR ALL'\n",
    "nombre = 'ARMOR ALL CERA PREMIUM EN CREMA 24X200 G'\n",
    "query2 = '\"{}\" \"{}\"'.format(codigo, marca)\n",
    "enlaces = obtener_enlaces_busqueda(query2)\n",
    "print(\"Los primeros 3 enlaces de la búsqueda son:\")\n",
    "for enlace in enlaces:\n",
    "    print(enlace)\n",
    "print(query2)\n",
    "query2 = '\"{}\" (\"{}\")'.format(marca, nombre)\n",
    "enlaces = obtener_enlaces_busqueda(query2)\n",
    "print(\"Los primeros 3 enlaces de la búsqueda son:\")\n",
    "for enlace in enlaces:\n",
    "    print(enlace)\n",
    "print(query2)"
   ]
  },
  {
   "cell_type": "code",
   "execution_count": 8,
   "metadata": {},
   "outputs": [],
   "source": [
    "import pandas as pd\n",
    "import ast"
   ]
  },
  {
   "cell_type": "code",
   "execution_count": 6,
   "metadata": {},
   "outputs": [],
   "source": [
    "\n",
    "# Función para verificar si un enlace es válido\n",
    "def es_enlace_valido(url):\n",
    "    try:\n",
    "        response = requests.head(url, allow_redirects=True)\n",
    "        return response.status_code == 200\n",
    "    except requests.RequestException:\n",
    "        return False"
   ]
  },
  {
   "cell_type": "code",
   "execution_count": 2,
   "metadata": {},
   "outputs": [],
   "source": [
    "df = pd.read_excel('resultados.xlsx', header=0)"
   ]
  },
  {
   "cell_type": "code",
   "execution_count": 17,
   "metadata": {},
   "outputs": [
    {
     "data": {
      "text/html": [
       "<div>\n",
       "<style scoped>\n",
       "    .dataframe tbody tr th:only-of-type {\n",
       "        vertical-align: middle;\n",
       "    }\n",
       "\n",
       "    .dataframe tbody tr th {\n",
       "        vertical-align: top;\n",
       "    }\n",
       "\n",
       "    .dataframe thead th {\n",
       "        text-align: right;\n",
       "    }\n",
       "</style>\n",
       "<table border=\"1\" class=\"dataframe\">\n",
       "  <thead>\n",
       "    <tr style=\"text-align: right;\">\n",
       "      <th></th>\n",
       "      <th>Codigo</th>\n",
       "      <th>Marca</th>\n",
       "      <th>Nombre</th>\n",
       "      <th>Descripcion</th>\n",
       "      <th>Especificaciones1</th>\n",
       "      <th>Ventajas1</th>\n",
       "      <th>Enlaces1</th>\n",
       "      <th>Imagenes1</th>\n",
       "      <th>Imagenes</th>\n",
       "    </tr>\n",
       "  </thead>\n",
       "  <tbody>\n",
       "    <tr>\n",
       "      <th>0</th>\n",
       "      <td>8445290069313</td>\n",
       "      <td>CAT CHOW</td>\n",
       "      <td>CAT CHOW Gatitos Pes Car y Veg 8x1kgN1AR</td>\n",
       "      <td>El alimento para gatos CAT CHOW Gatitos Pes Ca...</td>\n",
       "      <td>['Peso: 8 kg', 'Contenido: Pescado, carne y ve...</td>\n",
       "      <td>['Nutrición equilibrada para gatitos', 'Mezcla...</td>\n",
       "      <td>[https://biggie.com.py/item/alimento-para-gato...</td>\n",
       "      <td>NaN</td>\n",
       "      <td>[]</td>\n",
       "    </tr>\n",
       "    <tr>\n",
       "      <th>1</th>\n",
       "      <td>8445290069481</td>\n",
       "      <td>CAT CHOW</td>\n",
       "      <td>CAT CHOW Kittens Fsh Me and Veg 15kg AR</td>\n",
       "      <td>El alimento para gatos CAT CHOW Kittens Fsh Me...</td>\n",
       "      <td>['Peso: 15 kg', 'Contenido: Pescado, carne y v...</td>\n",
       "      <td>['Nutrición equilibrada para gatitos', 'Mezcla...</td>\n",
       "      <td>[https://es.scribd.com/document/628476553/List...</td>\n",
       "      <td>NaN</td>\n",
       "      <td>[]</td>\n",
       "    </tr>\n",
       "    <tr>\n",
       "      <th>2</th>\n",
       "      <td>8445290067630</td>\n",
       "      <td>CAT CHOW</td>\n",
       "      <td>CAT CHOW Adt Fish and Chick 15kg AR</td>\n",
       "      <td>El alimento para gatos CAT CHOW Adt Fish and C...</td>\n",
       "      <td>['Peso: 15kg', 'Fórmula para gatos adultos', '...</td>\n",
       "      <td>['Nutrición equilibrada para gatos adultos', '...</td>\n",
       "      <td>[https://quintapata.com.ar/alimentos/426-01001...</td>\n",
       "      <td>NaN</td>\n",
       "      <td>[]</td>\n",
       "    </tr>\n",
       "    <tr>\n",
       "      <th>3</th>\n",
       "      <td>8445290068705</td>\n",
       "      <td>CAT CHOW</td>\n",
       "      <td>CAT CHOW Adult Meat and Chkn 6x3kg AR</td>\n",
       "      <td>El alimento para gatos CAT CHOW Adult Meat and...</td>\n",
       "      <td>['Peso: 6x3kg', 'Fórmula para gatos adultos', ...</td>\n",
       "      <td>['Nutrición equilibrada para gatos adultos', '...</td>\n",
       "      <td>[https://www.supermas.com.py/cat-chow-adulto-a...</td>\n",
       "      <td>NaN</td>\n",
       "      <td>[]</td>\n",
       "    </tr>\n",
       "  </tbody>\n",
       "</table>\n",
       "</div>"
      ],
      "text/plain": [
       "          Codigo     Marca                                    Nombre  \\\n",
       "0  8445290069313  CAT CHOW  CAT CHOW Gatitos Pes Car y Veg 8x1kgN1AR   \n",
       "1  8445290069481  CAT CHOW   CAT CHOW Kittens Fsh Me and Veg 15kg AR   \n",
       "2  8445290067630  CAT CHOW       CAT CHOW Adt Fish and Chick 15kg AR   \n",
       "3  8445290068705  CAT CHOW     CAT CHOW Adult Meat and Chkn 6x3kg AR   \n",
       "\n",
       "                                         Descripcion  \\\n",
       "0  El alimento para gatos CAT CHOW Gatitos Pes Ca...   \n",
       "1  El alimento para gatos CAT CHOW Kittens Fsh Me...   \n",
       "2  El alimento para gatos CAT CHOW Adt Fish and C...   \n",
       "3  El alimento para gatos CAT CHOW Adult Meat and...   \n",
       "\n",
       "                                   Especificaciones1  \\\n",
       "0  ['Peso: 8 kg', 'Contenido: Pescado, carne y ve...   \n",
       "1  ['Peso: 15 kg', 'Contenido: Pescado, carne y v...   \n",
       "2  ['Peso: 15kg', 'Fórmula para gatos adultos', '...   \n",
       "3  ['Peso: 6x3kg', 'Fórmula para gatos adultos', ...   \n",
       "\n",
       "                                           Ventajas1  \\\n",
       "0  ['Nutrición equilibrada para gatitos', 'Mezcla...   \n",
       "1  ['Nutrición equilibrada para gatitos', 'Mezcla...   \n",
       "2  ['Nutrición equilibrada para gatos adultos', '...   \n",
       "3  ['Nutrición equilibrada para gatos adultos', '...   \n",
       "\n",
       "                                            Enlaces1  Imagenes1 Imagenes  \n",
       "0  [https://biggie.com.py/item/alimento-para-gato...        NaN       []  \n",
       "1  [https://es.scribd.com/document/628476553/List...        NaN       []  \n",
       "2  [https://quintapata.com.ar/alimentos/426-01001...        NaN       []  \n",
       "3  [https://www.supermas.com.py/cat-chow-adulto-a...        NaN       []  "
      ]
     },
     "execution_count": 17,
     "metadata": {},
     "output_type": "execute_result"
    }
   ],
   "source": [
    "df.head(4)"
   ]
  },
  {
   "cell_type": "code",
   "execution_count": 11,
   "metadata": {},
   "outputs": [],
   "source": [
    "df['Enlaces1'] = df[\"Enlaces1\"].apply(lambda x: ast.literal_eval(x))"
   ]
  },
  {
   "cell_type": "code",
   "execution_count": 15,
   "metadata": {},
   "outputs": [],
   "source": [
    "df['Imagenes'] = df['Enlaces1'].apply(lambda x: [])"
   ]
  },
  {
   "cell_type": "code",
   "execution_count": 13,
   "metadata": {},
   "outputs": [
    {
     "data": {
      "text/plain": [
       "['https://biggie.com.py/item/alimento-para-gato-cat-chow-pescado-carne-y-vegetales-de-1000-gr-8445290069313',\n",
       " 'https://www.arete.com.py/alimento-p-gato-cat-chow-gatitos-1-kg-p187136',\n",
       " 'https://pricely.ar/product/8445290069313',\n",
       " 'https://biggie.com.py/item/alimento-para-gato-cat-chow-pescado-carne-y-vegetales-de-1000-gr-8445290069313',\n",
       " 'https://www.arete.com.py/alimento-p-gato-cat-chow-gatitos-1-kg-p187136',\n",
       " 'https://pricely.ar/product/8445290069313']"
      ]
     },
     "execution_count": 13,
     "metadata": {},
     "output_type": "execute_result"
    }
   ],
   "source": [
    "df['Enlaces1'].iloc[0] + df['Enlaces1'].iloc[0]"
   ]
  },
  {
   "cell_type": "code",
   "execution_count": null,
   "metadata": {},
   "outputs": [],
   "source": [
    "def verificar_fila_enlaces(row, key1, key2):\n",
    "    try:\n",
    "        for link in row[key1] + row[key2]:\n",
    "            if  (not es_enlace_valido(link)):\n",
    "                return False\n",
    "        return True\n",
    "    except Exception as e:\n",
    "        print(\"Enlace no valido\")\n",
    "        print(e)\n",
    "        return False"
   ]
  },
  {
   "cell_type": "code",
   "execution_count": 19,
   "metadata": {},
   "outputs": [],
   "source": [
    "import requests\n",
    "from bs4 import BeautifulSoup\n",
    "import re"
   ]
  },
  {
   "cell_type": "code",
   "execution_count": 37,
   "metadata": {},
   "outputs": [
    {
     "name": "stdout",
     "output_type": "stream",
     "text": [
      "Entra\n",
      "Obteniendo imagenes\n",
      "'NoneType' object has no attribute 'startswith'\n",
      "Entra\n",
      "Entra\n"
     ]
    },
    {
     "data": {
      "text/plain": [
       "['https://images.pricely.ar/images/1/8445290069313.jpg']"
      ]
     },
     "execution_count": 37,
     "metadata": {},
     "output_type": "execute_result"
    }
   ],
   "source": [
    "obtener_3_imagenes(['https://biggie.com.py/item/alimento-para-gato-cat-chow-pescado-carne-y-vegetales-de-1000-gr-8445290069313', 'https://www.arete.com.py/alimento-p-gato-cat-chow-gatitos-1-kg-p187136', 'https://pricely.ar/product/8445290069313'])"
   ]
  },
  {
   "cell_type": "code",
   "execution_count": 18,
   "metadata": {},
   "outputs": [],
   "source": [
    "url = \"https://tiendasheper.com/product/pouch-dog-chow-cachorro-todos-los-tamanos-pollo-01kg\""
   ]
  },
  {
   "cell_type": "code",
   "execution_count": 35,
   "metadata": {},
   "outputs": [],
   "source": [
    "\n",
    "def obtener_3_imagenes(lista_urls):\n",
    "    # Extraer los enlaces de las imágenes\n",
    "    image_links = []\n",
    "    for url in lista_urls: #.enlaces:\n",
    "        try:\n",
    "            if url is None:\n",
    "                return []\n",
    "            # Realizar la solicitud HTTP a la página\n",
    "            response = requests.get(url)\n",
    "            response.raise_for_status()  # Verificar si la solicitud fue exitosa\n",
    "\n",
    "            # Parsear el contenido HTML de la página\n",
    "            soup = BeautifulSoup(response.content, 'html.parser')\n",
    "\n",
    "            # Posibles patrones de clases de contenedores de carrusel usando expresiones regulares\n",
    "            carousel_patterns = [\n",
    "                re.compile(r'swiper-container.*'),\n",
    "                re.compile(r'swiper.*'),\n",
    "                re.compile(r'.*carousel.*'),\n",
    "                re.compile(r'carousel.*'),\n",
    "                re.compile(r'slider.*'),\n",
    "                re.compile(r'image-view--wrap.*'),\n",
    "                re.compile(r'image-container.*'),\n",
    "                re.compile(r'product-image.*'),\n",
    "                re.compile(r'.*gallery.*'),\n",
    "                # Agrega otros patrones aquí\n",
    "            ]\n",
    "\n",
    "            images_current_link = []\n",
    "            # Buscar imágenes en posibles carruseles\n",
    "            for pattern in carousel_patterns:\n",
    "                carousels = soup.find_all('div', {\"class\":pattern})\n",
    "                for carousel in carousels:\n",
    "                    print(\"Entra\")\n",
    "                    images = carousel.find_all('img')\n",
    "                    for img in images:\n",
    "                        image_url = img.get('src')\n",
    "                        if es_enlace_valido(image_url) and image_url not in images_current_link:\n",
    "                            if not img.find_parent(class_=re.compile(r'.*navbar.*')) or not img.find_parent(class_=re.compile(r'.*header.*')) or\\\n",
    "                            not img.find_parent('nav') or not img.find_parent('header'):\n",
    "                            \n",
    "                                images_current_link.append(image_url)\n",
    "\n",
    "            # Si no se encontraron imágenes en carruseles, buscar una imagen principal\n",
    "            # if not images_current_link:\n",
    "            #     main_image = soup.find('img')\n",
    "            #     if main_image:\n",
    "            #         image_url = main_image.get('src')\n",
    "\n",
    "            if len(images_current_link) <= 4:\n",
    "                image_links = image_links + images_current_link\n",
    "                if len(image_links) > 3:\n",
    "                    return image_links\n",
    "        except Exception as e:\n",
    "            print(\"Obteniendo imagenes\")\n",
    "            print(e)\n",
    "            \n",
    "    return image_links\n"
   ]
  },
  {
   "cell_type": "code",
   "execution_count": 25,
   "metadata": {},
   "outputs": [
    {
     "data": {
      "text/plain": [
       "False"
      ]
     },
     "execution_count": 25,
     "metadata": {},
     "output_type": "execute_result"
    }
   ],
   "source": [
    "'width=140' in 'https://ardiaprod.vtexassets.com/arquivos/ids/290886-150-auto?v=638430139535000000&width=150&height=auto&aspect=true'"
   ]
  },
  {
   "cell_type": "code",
   "execution_count": 33,
   "metadata": {},
   "outputs": [
    {
     "name": "stdout",
     "output_type": "stream",
     "text": [
      "Entra\n",
      "Obteniendo imagenes\n",
      "'NoneType' object has no attribute 'startswith'\n"
     ]
    },
    {
     "data": {
      "text/plain": [
       "[]"
      ]
     },
     "execution_count": 33,
     "metadata": {},
     "output_type": "execute_result"
    }
   ],
   "source": [
    "obtener_3_imagenes(['https://www.arete.com.py/alimento-p-gato-cat-chow-gatitos-1-kg-p187136'])"
   ]
  },
  {
   "cell_type": "code",
   "execution_count": null,
   "metadata": {},
   "outputs": [],
   "source": []
  }
 ],
 "metadata": {
  "kernelspec": {
   "display_name": "venv",
   "language": "python",
   "name": "python3"
  },
  "language_info": {
   "codemirror_mode": {
    "name": "ipython",
    "version": 3
   },
   "file_extension": ".py",
   "mimetype": "text/x-python",
   "name": "python",
   "nbconvert_exporter": "python",
   "pygments_lexer": "ipython3",
   "version": "3.11.8"
  }
 },
 "nbformat": 4,
 "nbformat_minor": 2
}
