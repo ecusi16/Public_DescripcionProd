{
 "cells": [
  {
   "cell_type": "code",
   "execution_count": 1,
   "metadata": {},
   "outputs": [],
   "source": [
    "import openai\n",
    "import pandas as pd"
   ]
  },
  {
   "cell_type": "code",
   "execution_count": 13,
   "metadata": {},
   "outputs": [
    {
     "data": {
      "text/html": [
       "<div>\n",
       "<style scoped>\n",
       "    .dataframe tbody tr th:only-of-type {\n",
       "        vertical-align: middle;\n",
       "    }\n",
       "\n",
       "    .dataframe tbody tr th {\n",
       "        vertical-align: top;\n",
       "    }\n",
       "\n",
       "    .dataframe thead th {\n",
       "        text-align: right;\n",
       "    }\n",
       "</style>\n",
       "<table border=\"1\" class=\"dataframe\">\n",
       "  <thead>\n",
       "    <tr style=\"text-align: right;\">\n",
       "      <th></th>\n",
       "      <th>TOP VENTAS</th>\n",
       "      <th>CODIGO DE FABIRCA</th>\n",
       "      <th>MARCA</th>\n",
       "      <th>DESCRIPCION DEL ARTICULO</th>\n",
       "      <th>IMAGEN</th>\n",
       "      <th>PVP</th>\n",
       "      <th>PRECIO DISTRIBUIDOR -28%</th>\n",
       "      <th>PRECIO EL GENIOX DSCTO 7%</th>\n",
       "    </tr>\n",
       "  </thead>\n",
       "  <tbody>\n",
       "    <tr>\n",
       "      <th>0</th>\n",
       "      <td>1</td>\n",
       "      <td>4258621</td>\n",
       "      <td>Einhell</td>\n",
       "      <td>TC-ID 550 E - Taladro</td>\n",
       "      <td>NaN</td>\n",
       "      <td>330.0</td>\n",
       "      <td>237.600</td>\n",
       "      <td>220.96800</td>\n",
       "    </tr>\n",
       "    <tr>\n",
       "      <th>1</th>\n",
       "      <td>2</td>\n",
       "      <td>4430960</td>\n",
       "      <td>Einhell</td>\n",
       "      <td>Tc - Ag 115/750 Amoladora Angular 115 Mm</td>\n",
       "      <td>NaN</td>\n",
       "      <td>305.9</td>\n",
       "      <td>220.248</td>\n",
       "      <td>204.83064</td>\n",
       "    </tr>\n",
       "    <tr>\n",
       "      <th>2</th>\n",
       "      <td>3</td>\n",
       "      <td>4514220</td>\n",
       "      <td>Einhell</td>\n",
       "      <td>Te-Cd 18/2 Li-I + 22 (1X2,5Ah) Taladro De Impa...</td>\n",
       "      <td>NaN</td>\n",
       "      <td>799.0</td>\n",
       "      <td>575.280</td>\n",
       "      <td>535.01040</td>\n",
       "    </tr>\n",
       "    <tr>\n",
       "      <th>3</th>\n",
       "      <td>4</td>\n",
       "      <td>4430653</td>\n",
       "      <td>Einhell</td>\n",
       "      <td>Tc-Ag 850 Amoladora</td>\n",
       "      <td>NaN</td>\n",
       "      <td>310.0</td>\n",
       "      <td>223.200</td>\n",
       "      <td>207.57600</td>\n",
       "    </tr>\n",
       "  </tbody>\n",
       "</table>\n",
       "</div>"
      ],
      "text/plain": [
       "   TOP VENTAS  CODIGO DE FABIRCA    MARCA  \\\n",
       "0           1            4258621  Einhell   \n",
       "1           2            4430960  Einhell   \n",
       "2           3            4514220  Einhell   \n",
       "3           4            4430653  Einhell   \n",
       "\n",
       "                            DESCRIPCION DEL ARTICULO  IMAGEN    PVP  \\\n",
       "0                              TC-ID 550 E - Taladro     NaN  330.0   \n",
       "1           Tc - Ag 115/750 Amoladora Angular 115 Mm     NaN  305.9   \n",
       "2  Te-Cd 18/2 Li-I + 22 (1X2,5Ah) Taladro De Impa...     NaN  799.0   \n",
       "3                                Tc-Ag 850 Amoladora     NaN  310.0   \n",
       "\n",
       "   PRECIO DISTRIBUIDOR -28%  PRECIO EL GENIOX DSCTO 7%  \n",
       "0                   237.600                  220.96800  \n",
       "1                   220.248                  204.83064  \n",
       "2                   575.280                  535.01040  \n",
       "3                   223.200                  207.57600  "
      ]
     },
     "execution_count": 13,
     "metadata": {},
     "output_type": "execute_result"
    }
   ],
   "source": [
    "lista_productos = pd.read_excel(\"data\\lista_precios.xlsx\", header=1)\n",
    "lista_productos.head(4)"
   ]
  },
  {
   "cell_type": "code",
   "execution_count": 16,
   "metadata": {},
   "outputs": [
    {
     "data": {
      "text/plain": [
       "'[{\"CODIGO DE FABIRCA\":4258621,\"MARCA\":\"Einhell\",\"DESCRIPCION DEL ARTICULO\":\"TC-ID 550 E - Taladro\"},{\"CODIGO DE FABIRCA\":4430960,\"MARCA\":\"Einhell\",\"DESCRIPCION DEL ARTICULO\":\"Tc - Ag 115\\\\/750 Amoladora Angular 115 Mm\"},{\"CODIGO DE FABIRCA\":4514220,\"MARCA\":\"Einhell\",\"DESCRIPCION DEL ARTICULO\":\"Te-Cd 18\\\\/2 Li-I + 22 (1X2,5Ah) Taladro De Impacto Inal.\"},{\"CODIGO DE FABIRCA\":4430653,\"MARCA\":\"Einhell\",\"DESCRIPCION DEL ARTICULO\":\"Tc-Ag 850 Amoladora\"}]'"
      ]
     },
     "execution_count": 16,
     "metadata": {},
     "output_type": "execute_result"
    }
   ],
   "source": [
    "lista_productos[['CODIGO DE FABIRCA', 'MARCA', 'DESCRIPCION DEL ARTICULO']].head(4).to_json(orient='records')"
   ]
  },
  {
   "cell_type": "code",
   "execution_count": null,
   "metadata": {},
   "outputs": [],
   "source": []
  },
  {
   "cell_type": "code",
   "execution_count": 2,
   "metadata": {},
   "outputs": [],
   "source": [
    "\n",
    "# Configura tu clave API\n",
    "#openai.api_key = #TODO"
   ]
  },
  {
   "cell_type": "code",
   "execution_count": 17,
   "metadata": {},
   "outputs": [],
   "source": [
    "#Configura tu clave perpelexity\n",
    "#YOUR_API_KEY  = #TODO"
   ]
  },
  {
   "cell_type": "code",
   "execution_count": null,
   "metadata": {},
   "outputs": [],
   "source": [
    "from openai import OpenAI\n",
    "\n",
    "YOUR_API_KEY = \"INSERT API KEY HERE\"\n",
    "\n",
    "messages = [\n",
    "    {\n",
    "        \"role\": \"system\",\n",
    "        \"content\": (\n",
    "            \"You are an artificial intelligence assistant and you need to \"\n",
    "            \"engage in a helpful, detailed, polite conversation with a user.\"\n",
    "        ),\n",
    "    },\n",
    "    {\n",
    "        \"role\": \"user\",\n",
    "        \"content\": (\n",
    "            \"How many stars are in the universe?\"\n",
    "        ),\n",
    "    },\n",
    "]\n",
    "\n",
    "client = OpenAI(api_key=YOUR_API_KEY, base_url=\"https://api.perplexity.ai\")\n",
    "\n",
    "# chat completion without streaming\n",
    "response = client.chat.completions.create(\n",
    "    model=\"llama-3-sonar-large-32k-online\",\n",
    "    messages=messages,\n",
    ")\n",
    "print(response)\n",
    "\n",
    "# chat completion with streaming\n",
    "response_stream = client.chat.completions.create(\n",
    "    model=\"llama-3-sonar-large-32k-online\",\n",
    "    messages=messages,\n",
    "    stream=True,\n",
    ")\n",
    "for response in response_stream:\n",
    "    print(response)"
   ]
  },
  {
   "cell_type": "code",
   "execution_count": 20,
   "metadata": {},
   "outputs": [
    {
     "name": "stdout",
     "output_type": "stream",
     "text": [
      "ChatCompletion(id='6a4e4463-5e50-46ea-b391-ef6317aeb5f7', choices=[Choice(finish_reason='stop', index=0, logprobs=None, message=ChatCompletionMessage(content='¡Hola Me alegra ayudarte con la descripción de los productos que me has proporcionado. Aquí te dejo la información solicitada en formato JSON:\\n\\n```json\\n[\\n  {\\n    \"CODIGO DE FABRICA\": 4258621,\\n    \"MARCA\": \"Einhell\",\\n    \"DESCRIPCION DEL ARTICULO\": \"TC-ID 550 E - Taladro\",\\n    \"INTRODUCCION\": \"El TC-ID 550 E es un taladro de alta calidad de Einhell, diseñado para ofrecer una gran potencia y precisión en diversas aplicaciones. Con su motor de 550 W, este taladro es capaz de manejar materiales duros y suaves con facilidad. Además, cuenta con una velocidad variable que permite adaptarse a diferentes tipos de materiales y aplicaciones. Su diseño ergonómico y su mango antideslizante proporcionan un agarre seguro y cómodo.\",\\n    \"ESPECIFICACIONES\": [\\n      \"Potencia: 550 W\",\\n      \"Velocidad variable: 0-2.800 rpm\",\\n      \"Diámetro de taladro: 13 mm\",\\n      \"Capacidad de taladro en madera: 30 mm\",\\n      \"Capacidad de taladro en metal: 10 mm\",\\n      \"Peso: 1,8 kg\",\\n      \"Incluye: 2 baterías de iones de litio, cargador y maleta de transporte\",\\n      \"Garantía: 2 años\"\\n    ],\\n    \"IMAGENES\": [\\n      \"https://www.einhell.com/fileadmin/_processed_/csm_TC-ID_550_E_01_9a2e5f5a9d.jpg\",\\n      \"https://www.amazon.com/Einhell-TC-ID-550-E-Cordless-Drill/dp/B07B9R7R7R\"\\n    ],\\n    \"FUENTES\": [\\n      \"https://www.einhell.com/es/products/power-tools/cordless-drills/tc-id-550-e.html\",\\n      \"https://www.amazon.com/Einhell-TC-ID-550-E-Cordless-Drill/dp/B07B9R7R7R\",\\n      \"https://www.toolstop.co.uk/einhell-tc-id-550-e-18v-cordless-combi-drill\"\\n    ]\\n  },\\n  {\\n    \"CODIGO DE FABRICA\": 4430960,\\n    \"MARCA\": \"Einhell\",\\n    \"DESCRIPCION DEL ARTICULO\": \"Tc - Ag 115/750 Amoladora Angular 115 Mm\",\\n    \"INTRODUCCION\": \"La amoladora angular TC-AG 115/750 de Einhell es una herramienta potente y versátil diseñada para realizar tareas de corte, lijado y pulido en diversas superficies. Con su motor de 750 W, esta amoladora angular ofrece una gran potencia y estabilidad, lo que la hace ideal para aplicaciones intensivas. Además, su diseño ergonómico y su mango antideslizante proporcionan un agarre seguro y cómodo.\",\\n    \"ESPECIFICACIONES\": [\\n      \"Potencia: 750 W\",\\n      \"Velocidad: 11.000 rpm\",\\n      \"Diámetro de disco: 115 mm\",\\n      \"Peso: 2,2 kg\",\\n      \"Incluye: Disco de corte, llave de ajuste y maleta de transporte\",\\n      \"Garantía: 2 años\",\\n      \"Certificaciones: CE, GS, EAC\",\\n      \"Material del cuerpo: Magnesio\"\\n    ],\\n    \"IMAGENES\": [\\n      \"https://www.einhell.com/fileadmin/_processed_/csm_TC-AG_115_750_01_9a2e5f5a9d.jpg\",\\n      \"https://www.amazon.com/Einhell-TC-AG-115-750-Angle-Grinder/dp/B07B9R7R7S\"\\n    ],\\n    \"FUENTES\": [\\n      \"https://www.einhell.com/es/products/power-tools/angle-grinders/tc-ag-115-750.html\",\\n      \"https://www.amazon.com/Einhell-TC-AG-115-750-Angle-Grinder/dp/B07B9R7R7S\",\\n      \"https://www.toolstop.co.uk/einhell-tc-ag-115-750-750w-115mm-angle-grinder\"\\n    ]\\n  }\\n]\\n```\\n\\nEspero que esta información sea útil para ti. ¡Si necesitas algo más, no dudes en preguntar', role='assistant', function_call=None, tool_calls=None), delta={'role': 'assistant', 'content': ''})], created=1717013249, model='llama-3-sonar-large-32k-online', object='chat.completion', system_fingerprint=None, usage=CompletionUsage(completion_tokens=996, prompt_tokens=308, total_tokens=1304))\n"
     ]
    }
   ],
   "source": [
    "from openai import OpenAI\n",
    "\n",
    "# Tu API key de OpenAI\n",
    "# YOUR_API_KEY = \"INSERT_API_KEY_HERE\"\n",
    "\n",
    "# JSON de entrada con los detalles de los productos\n",
    "product_json = '[{\"CODIGO DE FABRICA\":4258621,\"MARCA\":\"Einhell\",\"DESCRIPCION DEL ARTICULO\":\"TC-ID 550 E - Taladro\"},{\"CODIGO DE FABRICA\":4430960,\"MARCA\":\"Einhell\",\"DESCRIPCION DEL ARTICULO\":\"Tc - Ag 115\\\\/750 Amoladora Angular 115 Mm\"}]'\n",
    "\n",
    "# Prompt base\n",
    "prompt_base = (\n",
    "    \"\"\"Imagina que eres un experto en búsqueda de productos.\n",
    "    Te proporcionaré una lista en formato JSON de productos que incluye su código de fabricante, marca y nombre.\n",
    "    Tu tarea es proporcionar, para cada producto de la lista, un párrafo introductorio conciso de 5-7 frases que describa el producto y sus características principales, \n",
    "    junto con 7-10 especificaciones del producto en viñetas, resaltando sus ventajas clave.\n",
    "    Además, necesito que incluyas los enlaces directos a las imágenes relevantes del producto desde los sitios web de referencia que proporcionas,\n",
    "    además incluye las tres fuentes más importantes utilizadas para obtener la información de cada producto. Por favor, devuelve estos datos en formato JSON. ¡Gracias!\n",
    "    INPUT: '{}'\"\"\"\n",
    ").format(product_json)\n",
    "\n",
    "# Crear el cliente de OpenAI\n",
    "client = OpenAI(api_key=YOUR_API_KEY, base_url=\"https://api.perplexity.ai\")\n",
    "\n",
    "# Mensajes para la conversación\n",
    "messages = [\n",
    "    {\n",
    "        \"role\": \"system\",\n",
    "        \"content\": \"You are an artificial intelligence assistant and you need to engage in a helpful, detailed, polite conversation with a user.\",\n",
    "    },\n",
    "    {\n",
    "        \"role\": \"user\",\n",
    "        \"content\": prompt_base,\n",
    "    },\n",
    "]\n",
    "\n",
    "client = OpenAI(api_key=YOUR_API_KEY, base_url=\"https://api.perplexity.ai\")\n",
    "\n",
    "# chat completion without streaming\n",
    "response = client.chat.completions.create(\n",
    "    model=\"llama-3-sonar-large-32k-online\",\n",
    "    messages=messages,\n",
    ")\n",
    "print(response)\n",
    "\n",
    "# chat completion with streaming\n",
    "#response_stream = client.chat.completions.create(\n",
    "#    model=\"llama-3-sonar-large-32k-online\",\n",
    "#    messages=messages,\n",
    "#    stream=True,\n",
    "#)\n",
    "for response in response_stream:\n",
    "    print(response)"
   ]
  },
  {
   "cell_type": "code",
   "execution_count": 29,
   "metadata": {},
   "outputs": [],
   "source": [
    "respuesta = response.choices[0].message.content.strip()"
   ]
  },
  {
   "cell_type": "code",
   "execution_count": 33,
   "metadata": {},
   "outputs": [
    {
     "name": "stdout",
     "output_type": "stream",
     "text": [
      "[\n",
      "    {\n",
      "        \"CODIGO DE FABRICA\": 4258621,\n",
      "        \"MARCA\": \"Einhell\",\n",
      "        \"DESCRIPCION DEL ARTICULO\": \"TC-ID 550 E - Taladro\",\n",
      "        \"INTRODUCCION\": \"El TC-ID 550 E es un taladro de alta calidad de Einhell, dise\\u00f1ado para ofrecer una gran potencia y precisi\\u00f3n en diversas aplicaciones. Con su motor de 550 W, este taladro es capaz de manejar materiales duros y suaves con facilidad. Adem\\u00e1s, cuenta con una velocidad variable que permite adaptarse a diferentes tipos de materiales y aplicaciones. Su dise\\u00f1o ergon\\u00f3mico y su mango antideslizante proporcionan un agarre seguro y c\\u00f3modo.\",\n",
      "        \"ESPECIFICACIONES\": [\n",
      "            \"Potencia: 550 W\",\n",
      "            \"Velocidad variable: 0-2.800 rpm\",\n",
      "            \"Di\\u00e1metro de taladro: 13 mm\",\n",
      "            \"Capacidad de taladro en madera: 30 mm\",\n",
      "            \"Capacidad de taladro en metal: 10 mm\",\n",
      "            \"Peso: 1,8 kg\",\n",
      "            \"Incluye: 2 bater\\u00edas de iones de litio, cargador y maleta de transporte\",\n",
      "            \"Garant\\u00eda: 2 a\\u00f1os\"\n",
      "        ],\n",
      "        \"IMAGENES\": [\n",
      "            \"https://www.einhell.com/fileadmin/_processed_/csm_TC-ID_550_E_01_9a2e5f5a9d.jpg\",\n",
      "            \"https://www.amazon.com/Einhell-TC-ID-550-E-Cordless-Drill/dp/B07B9R7R7R\"\n",
      "        ],\n",
      "        \"FUENTES\": [\n",
      "            \"https://www.einhell.com/es/products/power-tools/cordless-drills/tc-id-550-e.html\",\n",
      "            \"https://www.amazon.com/Einhell-TC-ID-550-E-Cordless-Drill/dp/B07B9R7R7R\",\n",
      "            \"https://www.toolstop.co.uk/einhell-tc-id-550-e-18v-cordless-combi-drill\"\n",
      "        ]\n",
      "    },\n",
      "    {\n",
      "        \"CODIGO DE FABRICA\": 4430960,\n",
      "        \"MARCA\": \"Einhell\",\n",
      "        \"DESCRIPCION DEL ARTICULO\": \"Tc - Ag 115/750 Amoladora Angular 115 Mm\",\n",
      "        \"INTRODUCCION\": \"La amoladora angular TC-AG 115/750 de Einhell es una herramienta potente y vers\\u00e1til dise\\u00f1ada para realizar tareas de corte, lijado y pulido en diversas superficies. Con su motor de 750 W, esta amoladora angular ofrece una gran potencia y estabilidad, lo que la hace ideal para aplicaciones intensivas. Adem\\u00e1s, su dise\\u00f1o ergon\\u00f3mico y su mango antideslizante proporcionan un agarre seguro y c\\u00f3modo.\",\n",
      "        \"ESPECIFICACIONES\": [\n",
      "            \"Potencia: 750 W\",\n",
      "            \"Velocidad: 11.000 rpm\",\n",
      "            \"Di\\u00e1metro de disco: 115 mm\",\n",
      "            \"Peso: 2,2 kg\",\n",
      "            \"Incluye: Disco de corte, llave de ajuste y maleta de transporte\",\n",
      "            \"Garant\\u00eda: 2 a\\u00f1os\",\n",
      "            \"Certificaciones: CE, GS, EAC\",\n",
      "            \"Material del cuerpo: Magnesio\"\n",
      "        ],\n",
      "        \"IMAGENES\": [\n",
      "            \"https://www.einhell.com/fileadmin/_processed_/csm_TC-AG_115_750_01_9a2e5f5a9d.jpg\",\n",
      "            \"https://www.amazon.com/Einhell-TC-AG-115-750-Angle-Grinder/dp/B07B9R7R7S\"\n",
      "        ],\n",
      "        \"FUENTES\": [\n",
      "            \"https://www.einhell.com/es/products/power-tools/angle-grinders/tc-ag-115-750.html\",\n",
      "            \"https://www.amazon.com/Einhell-TC-AG-115-750-Angle-Grinder/dp/B07B9R7R7S\",\n",
      "            \"https://www.toolstop.co.uk/einhell-tc-ag-115-750-750w-115mm-angle-grinder\"\n",
      "        ]\n",
      "    }\n",
      "]\n",
      "No se encontró un bloque JSON en la cadena de entrada.\n"
     ]
    }
   ],
   "source": [
    "import re \n",
    "import json\n",
    "\n",
    "json_match = re.search(r'\\[\\s*\\{.*\\}\\s*\\]', respuesta, re.DOTALL)\n",
    "\n",
    "try:\n",
    "    json_content = json_match.group(0)\n",
    "    # Convertir el texto JSON en un objeto JSON de Python\n",
    "    json_data = json.loads(json_content)\n",
    "    print(json.dumps(json_data, indent=4)) # Imprimir el JSON en formato legible\n",
    "except json.JSONDecodeError as e:\n",
    "    print(f\"Error al decodificar JSON: {e}\")\n",
    "else:\n",
    "    print(\"No se encontró un bloque JSON en la cadena de entrada.\")"
   ]
  },
  {
   "cell_type": "code",
   "execution_count": 37,
   "metadata": {},
   "outputs": [
    {
     "data": {
      "text/plain": [
       "['https://www.einhell.com/es/products/power-tools/cordless-drills/tc-id-550-e.html',\n",
       " 'https://www.amazon.com/Einhell-TC-ID-550-E-Cordless-Drill/dp/B07B9R7R7R',\n",
       " 'https://www.toolstop.co.uk/einhell-tc-id-550-e-18v-cordless-combi-drill']"
      ]
     },
     "execution_count": 37,
     "metadata": {},
     "output_type": "execute_result"
    }
   ],
   "source": [
    "json_data[0][\"FUENTES\"]"
   ]
  },
  {
   "cell_type": "code",
   "execution_count": null,
   "metadata": {},
   "outputs": [],
   "source": []
  }
 ],
 "metadata": {
  "kernelspec": {
   "display_name": "venv",
   "language": "python",
   "name": "python3"
  },
  "language_info": {
   "codemirror_mode": {
    "name": "ipython",
    "version": 3
   },
   "file_extension": ".py",
   "mimetype": "text/x-python",
   "name": "python",
   "nbconvert_exporter": "python",
   "pygments_lexer": "ipython3",
   "version": "3.11.8"
  }
 },
 "nbformat": 4,
 "nbformat_minor": 2
}
